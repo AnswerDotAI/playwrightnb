{
 "cells": [
  {
   "cell_type": "markdown",
   "metadata": {},
   "source": [
    "# PlaywrightNB\n",
    "\n",
    "> Helpers for Playwright"
   ]
  },
  {
   "cell_type": "markdown",
   "metadata": {},
   "source": [
    "`PlaywriteNB` provides some little quality-of-life helpers for interactive use of the wonderful [Playwright](https://playwright.dev/python/) library. It's likely to be particularly of interest to folks using Jupyter."
   ]
  },
  {
   "cell_type": "markdown",
   "metadata": {},
   "source": [
    "## Install"
   ]
  },
  {
   "cell_type": "markdown",
   "metadata": {},
   "source": [
    "```\n",
    "pip install playwrightnb\n",
    "```"
   ]
  },
  {
   "cell_type": "markdown",
   "metadata": {},
   "source": [
    "## Overview"
   ]
  },
  {
   "cell_type": "code",
   "execution_count": null,
   "metadata": {},
   "outputs": [],
   "source": [
    "from playwrightnb import *\n",
    "from html.parser import HTMLParser"
   ]
  },
  {
   "cell_type": "markdown",
   "metadata": {},
   "source": [
    "`playwrightnb` provide two main functions: `read_page_async(url)`, and `read_page(url)`. They are identical except the 1st is async.\n",
    "\n",
    "They return a tuple of the main HTML page contents, and a dict mapping iframe IDs to their HTML contents. They handle Javascript and other trickiness largely automatically, however you can pass a `pause` parameter (in milliseconds) if you need to insert some manual waits. You can also pass a `timeout` (also in milliseconds).\n",
    "\n",
    "For instance, the Dyalog APL help information is provided inside an iframe that's dynamically loaded by JS, but we are able to read it directly:"
   ]
  },
  {
   "cell_type": "code",
   "execution_count": null,
   "metadata": {},
   "outputs": [],
   "source": [
    "sh_url = 'https://help.dyalog.com/19.0/#UserGuide/Installation%20and%20Configuration/Shell%20Scripts.htm'"
   ]
  },
  {
   "cell_type": "code",
   "execution_count": null,
   "metadata": {},
   "outputs": [],
   "source": [
    "cts,iframes = read_page(sh_url)\n",
    "txt = iframes['topic']"
   ]
  },
  {
   "cell_type": "code",
   "execution_count": null,
   "metadata": {},
   "outputs": [
    {
     "name": "stdout",
     "output_type": "stream",
     "text": [
      "Shell Scripts Open topic with navigation Old Release Notes > Release Notes – Dyalog v18.2 > Shell Sc\n"
     ]
    }
   ],
   "source": [
    "class HTMLTextExtractor(HTMLParser):\n",
    "    def handle_data(self, data): self.text.append(data.strip())\n",
    "\n",
    "parser = HTMLTextExtractor()\n",
    "parser.text = []\n",
    "parser.feed(txt)\n",
    "extracted_text = ' '.join(filter(None, parser.text))\n",
    "print(extracted_text[:100])"
   ]
  },
  {
   "cell_type": "markdown",
   "metadata": {},
   "source": [
    "## fin -"
   ]
  },
  {
   "cell_type": "code",
   "execution_count": null,
   "metadata": {},
   "outputs": [],
   "source": []
  }
 ],
 "metadata": {
  "kernelspec": {
   "display_name": "python3",
   "language": "python",
   "name": "python3"
  }
 },
 "nbformat": 4,
 "nbformat_minor": 4
}
