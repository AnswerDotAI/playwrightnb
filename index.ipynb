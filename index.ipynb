{
 "cells": [
  {
   "cell_type": "markdown",
   "metadata": {},
   "source": [
    "# PlaywrightNB\n",
    "\n",
    "> Helpers for Playwright"
   ]
  },
  {
   "cell_type": "markdown",
   "metadata": {},
   "source": [
    "`PlaywrightNB` provides some little quality-of-life helpers for interactive use of the wonderful [Playwright](https://playwright.dev/python/) library. It's likely to be particularly of interest to folks using Jupyter."
   ]
  },
  {
   "cell_type": "markdown",
   "metadata": {},
   "source": [
    "## Install"
   ]
  },
  {
   "cell_type": "markdown",
   "metadata": {},
   "source": [
    "```\n",
    "pip install playwrightnb\n",
    "```"
   ]
  },
  {
   "cell_type": "markdown",
   "metadata": {},
   "source": [
    "## Overview"
   ]
  },
  {
   "cell_type": "code",
   "execution_count": null,
   "metadata": {},
   "outputs": [],
   "source": [
    "from playwrightnb import *\n",
    "from html.parser import HTMLParser"
   ]
  },
  {
   "cell_type": "markdown",
   "metadata": {},
   "source": [
    "`playwrightnb` provide two main functions: `read_page_async(url)`, and `read_page(url)`. They are identical except the 1st is async.\n",
    "\n",
    "They return a tuple of the main HTML page contents, and a dict mapping iframe IDs to their HTML contents. They handle Javascript and other trickiness largely automatically, however you can pass a `pause` parameter (in milliseconds) if you need to insert some manual waits. You can also pass a `timeout` (also in milliseconds).\n",
    "\n",
    "For instance, the Dyalog APL help information is provided inside an iframe that's dynamically loaded by JS, but we are able to read it directly:"
   ]
  },
  {
   "cell_type": "code",
   "execution_count": null,
   "metadata": {},
   "outputs": [],
   "source": [
    "sh_url = 'https://help.dyalog.com/19.0/#UserGuide/Installation%20and%20Configuration/Shell%20Scripts.htm'\n",
    "cts,iframes = read_page(sh_url)"
   ]
  },
  {
   "cell_type": "markdown",
   "metadata": {},
   "source": [
    "Use `h2md` to convert the HTML to markdown:"
   ]
  },
  {
   "cell_type": "code",
   "execution_count": null,
   "metadata": {},
   "outputs": [
    {
     "name": "stdout",
     "output_type": "stream",
     "text": [
      "## Shell Scripts\n",
      "\n",
      "Shell scripts are typically executed from a terminal (or shell).\n",
      "\n",
      "A script is executed by typing its name. User input is entered from the \n"
     ]
    }
   ],
   "source": [
    "print(h2md(iframes['topic'])[94:250])"
   ]
  },
  {
   "cell_type": "markdown",
   "metadata": {},
   "source": [
    "In the case where you want to grab some particular element using a CSS selector, use `url2md` to read the page, find the selector, and convert to markdown. E.g, for accessing Discord's JS-rendered docs:"
   ]
  },
  {
   "cell_type": "code",
   "execution_count": null,
   "metadata": {},
   "outputs": [],
   "source": [
    "url = 'https://discord.com/developers/docs/interactions/application-commands'\n",
    "sel = '.page-content-scrolling-container'\n",
    "md = url2md(url, sel)"
   ]
  },
  {
   "cell_type": "code",
   "execution_count": null,
   "metadata": {},
   "outputs": [
    {
     "name": "stdout",
     "output_type": "stream",
     "text": [
      "Application commands are native ways to interact with apps in the Discord client. There are 3 types of commands accessible in different interfaces: the chat input, a message's context menu (top-right menu or right-clicking in a message), and a user's context menu (right-clicking on a user).\n",
      "\n",
      "## Application Command Object\n",
      "\n",
      "###### Application Command Naming\n",
      "\n",
      "\n"
     ]
    }
   ],
   "source": [
    "print(md[856:1215])"
   ]
  },
  {
   "cell_type": "markdown",
   "metadata": {},
   "source": [
    "If you don't need JS-rendering or other fanciness, use `get2md` instead, which uses `httpx.get` instead of playwright."
   ]
  },
  {
   "cell_type": "markdown",
   "metadata": {},
   "source": [
    "## fin -"
   ]
  },
  {
   "cell_type": "code",
   "execution_count": null,
   "metadata": {},
   "outputs": [],
   "source": []
  }
 ],
 "metadata": {
  "kernelspec": {
   "display_name": "python3",
   "language": "python",
   "name": "python3"
  }
 },
 "nbformat": 4,
 "nbformat_minor": 4
}
