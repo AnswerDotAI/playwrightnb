{
 "cells": [
  {
   "cell_type": "code",
   "execution_count": null,
   "id": "86903fa1",
   "metadata": {},
   "outputs": [],
   "source": [
    "#| default_exp core"
   ]
  },
  {
   "cell_type": "markdown",
   "id": "7316c7fb",
   "metadata": {},
   "source": [
    "# PlaywrightNB source\n",
    "> Helpers for using Playwright from notebooks and more"
   ]
  },
  {
   "cell_type": "code",
   "execution_count": null,
   "id": "5c4a0708",
   "metadata": {},
   "outputs": [],
   "source": [
    "#| export\n",
    "from fastcore.utils import *\n",
    "from fastcore.meta import delegates\n",
    "import uuid, warnings\n",
    "\n",
    "from playwright.async_api import async_playwright, TimeoutError as PTimeoutError\n",
    "from playwright_stealth import stealth_async\n",
    "from anyio import from_thread\n",
    "from httpx import get\n",
    "\n",
    "from bs4 import BeautifulSoup, GuessedAtParserWarning\n",
    "from html2text import HTML2Text"
   ]
  },
  {
   "cell_type": "code",
   "execution_count": null,
   "id": "572ae069",
   "metadata": {},
   "outputs": [],
   "source": [
    "#| export\n",
    "async def get_page(*args, stealth=False, **kwargs):\n",
    "    p = await async_playwright().start()\n",
    "    c = await p.chromium.launch(*args, **kwargs)\n",
    "    ctx = await c.new_context()\n",
    "    page = await ctx.new_page()\n",
    "    page.stop = p.stop\n",
    "    if stealth: await stealth_async(page)\n",
    "    return page"
   ]
  },
  {
   "cell_type": "code",
   "execution_count": null,
   "id": "819c7932",
   "metadata": {},
   "outputs": [
    {
     "data": {
      "text/plain": [
       "<Response url='http://example.org/' request=<Request url='http://example.org/' method='GET'>>"
      ]
     },
     "execution_count": null,
     "metadata": {},
     "output_type": "execute_result"
    }
   ],
   "source": [
    "page = await get_page()\n",
    "await page.goto('http://example.org')"
   ]
  },
  {
   "cell_type": "code",
   "execution_count": null,
   "id": "b3f6649f",
   "metadata": {},
   "outputs": [],
   "source": [
    "#| export\n",
    "async def page_ready(page, pause=50, timeout=5000):\n",
    "    \"Waith until main content of `page` is ready\"\n",
    "    await page.wait_for_load_state('domcontentloaded')\n",
    "    await page.wait_for_load_state('networkidle')\n",
    "    await page.wait_for_timeout(pause)\n",
    "    try: await page.wait_for_selector('meta', state=\"attached\", timeout=timeout)\n",
    "    except PTimeoutError as e: pass\n",
    "    await page.wait_for_timeout(pause)"
   ]
  },
  {
   "cell_type": "code",
   "execution_count": null,
   "id": "132f0754",
   "metadata": {},
   "outputs": [],
   "source": [
    "#| export\n",
    "async def frames_ready(page, pause=50, timeout=5000):\n",
    "    \"Wait until all visible frames (if any) on `page` are ready\"\n",
    "    iframes = await page.query_selector_all('iframe:visible')\n",
    "    if not iframes: return\n",
    "    for iframe in iframes:\n",
    "        await iframe.wait_for_element_state('visible', timeout=timeout)\n",
    "        await page.wait_for_timeout(pause)\n",
    "        frame = await iframe.content_frame()\n",
    "        if frame:\n",
    "            await frame.wait_for_load_state('domcontentloaded', timeout=timeout)\n",
    "            await frame.wait_for_load_state('networkidle', timeout=timeout)"
   ]
  },
  {
   "cell_type": "code",
   "execution_count": null,
   "id": "5a9ea7ab",
   "metadata": {},
   "outputs": [],
   "source": [
    "#| export\n",
    "async def wait_page(page, pause=50, timeout=5000):\n",
    "    \"Wait until page and visible frames (if any) on `page` are ready\"\n",
    "    await page_ready(page, pause=pause, timeout=timeout)\n",
    "    await frames_ready(page, pause=pause, timeout=timeout)"
   ]
  },
  {
   "cell_type": "code",
   "execution_count": null,
   "id": "8860e512",
   "metadata": {},
   "outputs": [],
   "source": [
    "sh_url = 'https://help.dyalog.com/19.0/#UserGuide/Installation%20and%20Configuration/Shell%20Scripts.htm'"
   ]
  },
  {
   "cell_type": "code",
   "execution_count": null,
   "id": "a215f06c",
   "metadata": {},
   "outputs": [],
   "source": [
    "await page.goto(sh_url)\n",
    "await wait_page(page)"
   ]
  },
  {
   "cell_type": "code",
   "execution_count": null,
   "id": "75092cd8",
   "metadata": {},
   "outputs": [],
   "source": [
    "#| export\n",
    "async def get_full_content(page):\n",
    "    \"Tuple of page content and dict of frames' content\"\n",
    "    main_content = await page.content()\n",
    "    iframes = await page.query_selector_all('iframe')\n",
    "    iframe_contents = {}\n",
    "    for iframe in iframes:\n",
    "        frame = await iframe.content_frame()\n",
    "        if frame:\n",
    "            key = await iframe.get_attribute('id') or str(uuid.uuid4())\n",
    "            iframe_contents[key] = await frame.content()\n",
    "    return main_content, iframe_contents"
   ]
  },
  {
   "cell_type": "code",
   "execution_count": null,
   "id": "3f9aeb95",
   "metadata": {},
   "outputs": [],
   "source": [
    "cts, iframes = await get_full_content(page)"
   ]
  },
  {
   "cell_type": "code",
   "execution_count": null,
   "id": "39bc0236",
   "metadata": {},
   "outputs": [],
   "source": [
    "await page.close()"
   ]
  },
  {
   "cell_type": "code",
   "execution_count": null,
   "id": "2cf5603b",
   "metadata": {},
   "outputs": [],
   "source": [
    "#| export\n",
    "async def read_page_async(url, pause=50, timeout=5000, stealth=False, page=None):\n",
    "    \"Return contents of `url` and its iframes using Playwright async\"\n",
    "    has_page = bool(page)\n",
    "    if not page: page = await get_page(stealth=stealth)\n",
    "    try:\n",
    "        await page.goto(url)\n",
    "        await wait_page(page, pause=pause, timeout=timeout)\n",
    "        return await get_full_content(page)\n",
    "    finally:\n",
    "        if not has_page: await page.close()"
   ]
  },
  {
   "cell_type": "code",
   "execution_count": null,
   "id": "c3b3d1ec",
   "metadata": {},
   "outputs": [],
   "source": [
    "cts,iframes = await read_page_async(sh_url)"
   ]
  },
  {
   "cell_type": "code",
   "execution_count": null,
   "id": "ec0d3b40",
   "metadata": {},
   "outputs": [],
   "source": [
    "#| export\n",
    "def read_page(url, pause=50, timeout=5000, stealth=False, page=None):\n",
    "    \"Return contents of `url` and its iframes using Playwright\"\n",
    "    with from_thread.start_blocking_portal() as p: return p.call(read_page_async, url, pause, timeout, stealth, page)"
   ]
  },
  {
   "cell_type": "code",
   "execution_count": null,
   "id": "fdf8c2c8",
   "metadata": {},
   "outputs": [],
   "source": [
    "cts,iframes = read_page(sh_url)"
   ]
  },
  {
   "cell_type": "code",
   "execution_count": null,
   "id": "080374a8",
   "metadata": {},
   "outputs": [
    {
     "data": {
      "text/plain": [
       "'<!DOCTYPE html><html xmlns:madcap=\"http://www.madc'"
      ]
     },
     "execution_count": null,
     "metadata": {},
     "output_type": "execute_result"
    }
   ],
   "source": [
    "iframes['topic'][:50]"
   ]
  },
  {
   "cell_type": "code",
   "execution_count": null,
   "id": "7f1b1068",
   "metadata": {},
   "outputs": [],
   "source": [
    "#| export\n",
    "def h2md(h):\n",
    "    \"Convert HTML `h` to markdown using `HTML2Text\"\n",
    "    h2t = HTML2Text(bodywidth=5000)\n",
    "    h2t.ignore_links = True\n",
    "    h2t.mark_code = True\n",
    "    h2t.ignore_images = True\n",
    "    return h2t.handle(str(h))"
   ]
  },
  {
   "cell_type": "code",
   "execution_count": null,
   "id": "879a818e",
   "metadata": {},
   "outputs": [],
   "source": [
    "#| export\n",
    "async def url2md_async(url, sel=None, pause=50, timeout=5000, stealth=False, page=None):\n",
    "    \"Read `url` with `read_page`, optionally selecting CSS selector `sel`\"\n",
    "    warnings.filterwarnings(\"ignore\", category=GuessedAtParserWarning)\n",
    "    cts,_ = await read_page_async(url, pause, timeout=timeout, stealth=stealth, page=page)\n",
    "    soup = BeautifulSoup(cts)\n",
    "    content = soup.select_one(sel)\n",
    "    return h2md(content)"
   ]
  },
  {
   "cell_type": "code",
   "execution_count": null,
   "id": "a9c44a62",
   "metadata": {},
   "outputs": [],
   "source": [
    "#| export\n",
    "def url2md(url, sel=None, pause=50, timeout=5000, stealth=False, page=None):\n",
    "    \"Read `url` with `read_page`\"\n",
    "    warnings.filterwarnings(\"ignore\", category=GuessedAtParserWarning)\n",
    "    cts,_ = read_page(url, pause, timeout=timeout, stealth=stealth, page=page)\n",
    "    soup = BeautifulSoup(cts)\n",
    "    content = soup.select_one(sel)\n",
    "    return h2md(content)"
   ]
  },
  {
   "cell_type": "code",
   "execution_count": null,
   "id": "9b2c101b",
   "metadata": {},
   "outputs": [],
   "source": [
    "#| export\n",
    "@delegates(get)\n",
    "def get2md(url, sel=None, **kwargs):\n",
    "    \"Read `url` with `httpx.get`\"\n",
    "    warnings.filterwarnings(\"ignore\", category=GuessedAtParserWarning)\n",
    "    cts = get(url, **kwargs)\n",
    "    soup = BeautifulSoup(cts)\n",
    "    content = soup.select_one(sel)\n",
    "    return h2md(content)"
   ]
  },
  {
   "cell_type": "code",
   "execution_count": null,
   "id": "a3680fcd",
   "metadata": {},
   "outputs": [
    {
     "name": "stdout",
     "output_type": "stream",
     "text": [
      "# Use the Public API\n",
      "\n",
      "The Railway public API is built with GraphQL and is the same API that powers the Railway dashboard\n"
     ]
    }
   ],
   "source": [
    "url = 'https://docs.railway.app/guides/public-api'\n",
    "md = get2md(url, \".docs-content\")\n",
    "print(md[:120])"
   ]
  },
  {
   "cell_type": "markdown",
   "id": "474e14b4",
   "metadata": {},
   "source": [
    "## Export -"
   ]
  },
  {
   "cell_type": "code",
   "execution_count": null,
   "id": "d211e8e2",
   "metadata": {},
   "outputs": [],
   "source": [
    "#|hide\n",
    "import nbdev; nbdev.nbdev_export()"
   ]
  },
  {
   "cell_type": "code",
   "execution_count": null,
   "id": "18f545b6",
   "metadata": {},
   "outputs": [],
   "source": []
  }
 ],
 "metadata": {
  "kernelspec": {
   "display_name": "python3",
   "language": "python",
   "name": "python3"
  }
 },
 "nbformat": 4,
 "nbformat_minor": 5
}
